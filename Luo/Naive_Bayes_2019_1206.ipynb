{
 "cells": [
  {
   "cell_type": "markdown",
   "metadata": {},
   "source": [
    "# 2019/12/02 - 2019/12/09\n",
    "## Naive Bayes Implement by Luo"
   ]
  },
  {
   "cell_type": "code",
   "execution_count": 1,
   "metadata": {},
   "outputs": [],
   "source": [
    "import numpy as np\n",
    "import pandas as pd\n",
    "from scipy.stats import multivariate_normal\n",
    "import matplotlib.pyplot as plt\n",
    "from sklearn import datasets\n",
    "from sklearn.metrics import accuracy_score"
   ]
  },
  {
   "cell_type": "markdown",
   "metadata": {},
   "source": [
    "### Iris Dataset\n",
    "#### 75% for training 25% for testing"
   ]
  },
  {
   "cell_type": "code",
   "execution_count": 2,
   "metadata": {},
   "outputs": [
    {
     "name": "stdout",
     "output_type": "stream",
     "text": [
      "dict_keys(['data', 'target', 'target_names', 'DESCR', 'feature_names', 'filename'])\n"
     ]
    }
   ],
   "source": [
    "iris_data = datasets.load_iris()\n",
    "print(iris_data.keys())"
   ]
  },
  {
   "cell_type": "code",
   "execution_count": 3,
   "metadata": {},
   "outputs": [
    {
     "data": {
      "text/html": [
       "<div>\n",
       "<style scoped>\n",
       "    .dataframe tbody tr th:only-of-type {\n",
       "        vertical-align: middle;\n",
       "    }\n",
       "\n",
       "    .dataframe tbody tr th {\n",
       "        vertical-align: top;\n",
       "    }\n",
       "\n",
       "    .dataframe thead th {\n",
       "        text-align: right;\n",
       "    }\n",
       "</style>\n",
       "<table border=\"1\" class=\"dataframe\">\n",
       "  <thead>\n",
       "    <tr style=\"text-align: right;\">\n",
       "      <th></th>\n",
       "      <th>sepal length (cm)</th>\n",
       "      <th>sepal width (cm)</th>\n",
       "      <th>petal length (cm)</th>\n",
       "      <th>petal width (cm)</th>\n",
       "      <th>target</th>\n",
       "    </tr>\n",
       "  </thead>\n",
       "  <tbody>\n",
       "    <tr>\n",
       "      <th>0</th>\n",
       "      <td>5.1</td>\n",
       "      <td>3.5</td>\n",
       "      <td>1.4</td>\n",
       "      <td>0.2</td>\n",
       "      <td>0</td>\n",
       "    </tr>\n",
       "    <tr>\n",
       "      <th>1</th>\n",
       "      <td>4.9</td>\n",
       "      <td>3.0</td>\n",
       "      <td>1.4</td>\n",
       "      <td>0.2</td>\n",
       "      <td>0</td>\n",
       "    </tr>\n",
       "    <tr>\n",
       "      <th>2</th>\n",
       "      <td>4.7</td>\n",
       "      <td>3.2</td>\n",
       "      <td>1.3</td>\n",
       "      <td>0.2</td>\n",
       "      <td>0</td>\n",
       "    </tr>\n",
       "    <tr>\n",
       "      <th>3</th>\n",
       "      <td>4.6</td>\n",
       "      <td>3.1</td>\n",
       "      <td>1.5</td>\n",
       "      <td>0.2</td>\n",
       "      <td>0</td>\n",
       "    </tr>\n",
       "    <tr>\n",
       "      <th>4</th>\n",
       "      <td>5.0</td>\n",
       "      <td>3.6</td>\n",
       "      <td>1.4</td>\n",
       "      <td>0.2</td>\n",
       "      <td>0</td>\n",
       "    </tr>\n",
       "  </tbody>\n",
       "</table>\n",
       "</div>"
      ],
      "text/plain": [
       "   sepal length (cm)  sepal width (cm)  petal length (cm)  petal width (cm)  \\\n",
       "0                5.1               3.5                1.4               0.2   \n",
       "1                4.9               3.0                1.4               0.2   \n",
       "2                4.7               3.2                1.3               0.2   \n",
       "3                4.6               3.1                1.5               0.2   \n",
       "4                5.0               3.6                1.4               0.2   \n",
       "\n",
       "   target  \n",
       "0       0  \n",
       "1       0  \n",
       "2       0  \n",
       "3       0  \n",
       "4       0  "
      ]
     },
     "execution_count": 3,
     "metadata": {},
     "output_type": "execute_result"
    }
   ],
   "source": [
    "iris_df = pd.DataFrame(iris_data['data'], columns=iris_data['feature_names'])\n",
    "iris_df['target'] = iris_data['target']\n",
    "iris_df.head()"
   ]
  },
  {
   "cell_type": "code",
   "execution_count": 4,
   "metadata": {},
   "outputs": [
    {
     "data": {
      "text/html": [
       "<div>\n",
       "<style scoped>\n",
       "    .dataframe tbody tr th:only-of-type {\n",
       "        vertical-align: middle;\n",
       "    }\n",
       "\n",
       "    .dataframe tbody tr th {\n",
       "        vertical-align: top;\n",
       "    }\n",
       "\n",
       "    .dataframe thead th {\n",
       "        text-align: right;\n",
       "    }\n",
       "</style>\n",
       "<table border=\"1\" class=\"dataframe\">\n",
       "  <thead>\n",
       "    <tr style=\"text-align: right;\">\n",
       "      <th></th>\n",
       "      <th>petal length (cm)</th>\n",
       "      <th>petal width (cm)</th>\n",
       "      <th>target</th>\n",
       "    </tr>\n",
       "  </thead>\n",
       "  <tbody>\n",
       "    <tr>\n",
       "      <th>96</th>\n",
       "      <td>4.2</td>\n",
       "      <td>1.3</td>\n",
       "      <td>1</td>\n",
       "    </tr>\n",
       "    <tr>\n",
       "      <th>0</th>\n",
       "      <td>1.4</td>\n",
       "      <td>0.2</td>\n",
       "      <td>0</td>\n",
       "    </tr>\n",
       "    <tr>\n",
       "      <th>64</th>\n",
       "      <td>3.6</td>\n",
       "      <td>1.3</td>\n",
       "      <td>1</td>\n",
       "    </tr>\n",
       "    <tr>\n",
       "      <th>54</th>\n",
       "      <td>4.6</td>\n",
       "      <td>1.5</td>\n",
       "      <td>1</td>\n",
       "    </tr>\n",
       "    <tr>\n",
       "      <th>50</th>\n",
       "      <td>4.7</td>\n",
       "      <td>1.4</td>\n",
       "      <td>1</td>\n",
       "    </tr>\n",
       "  </tbody>\n",
       "</table>\n",
       "</div>"
      ],
      "text/plain": [
       "    petal length (cm)  petal width (cm)  target\n",
       "96                4.2               1.3       1\n",
       "0                 1.4               0.2       0\n",
       "64                3.6               1.3       1\n",
       "54                4.6               1.5       1\n",
       "50                4.7               1.4       1"
      ]
     },
     "execution_count": 4,
     "metadata": {},
     "output_type": "execute_result"
    }
   ],
   "source": [
    "random_indexs = np.random.permutation(len(iris_df))\n",
    "train_sample_size = int(len(iris_df) * 0.75)\n",
    "train_df = iris_df.iloc[random_indexs[:train_sample_size], [2, 3, 4]]\n",
    "test_df = iris_df.iloc[random_indexs[train_sample_size:], [2, 3, 4]]\n",
    "train_df.head()"
   ]
  },
  {
   "cell_type": "markdown",
   "metadata": {},
   "source": [
    "### Naive Bayse Based on\n",
    "### $P(Class_i \\mid x) = \\frac {P(x \\mid Class_i) \\times P(Class_1)}{P(x \\mid Class_1) \\times P(Class_1) + ... + P(x \\mid Class_n) \\times P(Class_n)}$\n",
    "#### Where  $P(x\\mid Class_i) \\sim multinomial(\\mu, \\Sigma)$"
   ]
  },
  {
   "cell_type": "markdown",
   "metadata": {},
   "source": [
    "## Step1\n",
    "### Caculate  $P(Class_i)$"
   ]
  },
  {
   "cell_type": "code",
   "execution_count": 5,
   "metadata": {},
   "outputs": [
    {
     "name": "stdout",
     "output_type": "stream",
     "text": [
      "p(Class_1): 0.392857\n",
      "p(Class_1): 0.303571\n",
      "p(Class_1): 0.303571\n"
     ]
    }
   ],
   "source": [
    "### p(c1) P(c2) P(c3)\n",
    "class_1_prob = len(train_df[train_df.target == 0]) / len(train_df)\n",
    "class_2_prob = len(train_df[train_df.target == 1]) / len(train_df)\n",
    "class_3_prob = len(train_df[train_df.target == 2]) / len(train_df)\n",
    "print('p(Class_1): %f\\np(Class_1): %f\\np(Class_1): %f' % (class_1_prob, class_2_prob, class_3_prob))"
   ]
  },
  {
   "cell_type": "markdown",
   "metadata": {},
   "source": [
    "## Step 2\n",
    "### Caculate $P(x \\mid Class_i)$\n",
    "### We assume \n",
    "### 1. $P(x\\mid Class_i) \\sim multinomial(\\mu, \\Sigma)$\n",
    "### 2. Variables are independent (Covariance matrix is diagonal)\n",
    "### By MLE method, $(\\bar {x}, \\sigma)$ are proper estimator for $(\\mu, \\Sigma)$"
   ]
  },
  {
   "cell_type": "markdown",
   "metadata": {},
   "source": [
    "#### Caculate $(\\bar {x}, \\sigma)$"
   ]
  },
  {
   "cell_type": "code",
   "execution_count": 6,
   "metadata": {},
   "outputs": [],
   "source": [
    "def mean_cov_caculate(df, label):\n",
    "    view_df = df[df.target == label][['petal length (cm)', 'petal width (cm)']]\n",
    "    sample_size = len(view_df)\n",
    "    means = np.array(view_df.mean())\n",
    "    variances = np.array(view_df.var())\n",
    "\n",
    "    ## make it be diagonal\n",
    "    cov = np.zeros((2, 2))\n",
    "    for var, i in zip(variances, range(2)):\n",
    "        cov[i, i] = var\n",
    "    \n",
    "    return sample_size, means, cov\n"
   ]
  },
  {
   "cell_type": "code",
   "execution_count": 7,
   "metadata": {},
   "outputs": [],
   "source": [
    "sample_size_1, class_1_means, class_1_cov = mean_cov_caculate(train_df, 0)\n",
    "sample_size_2, class_2_means, class_2_cov = mean_cov_caculate(train_df, 1)\n",
    "sample_size_3, class_3_means, class_3_cov = mean_cov_caculate(train_df, 2)"
   ]
  },
  {
   "cell_type": "code",
   "execution_count": 8,
   "metadata": {},
   "outputs": [],
   "source": [
    "cov = (class_1_cov + class_2_cov + class_3_cov) / 3"
   ]
  },
  {
   "cell_type": "code",
   "execution_count": 9,
   "metadata": {},
   "outputs": [],
   "source": [
    "cov = (class_1_cov * sample_size_1 + class_2_cov * sample_size_2 + class_3_cov * sample_size_3) / len(train_df)"
   ]
  },
  {
   "cell_type": "markdown",
   "metadata": {},
   "source": [
    "### Caculate Posterior probability"
   ]
  },
  {
   "cell_type": "code",
   "execution_count": 10,
   "metadata": {
    "scrolled": true
   },
   "outputs": [],
   "source": [
    "def caculate_posteriot_probability(features, means_alls, cov, prior_prob_alls):\n",
    "    cond_probs = []\n",
    "    for i, prior_prob in enumerate(prior_prob_alls):\n",
    "        cond_prob = multivariate_normal.pdf(features, mean=means_alls[i], cov=cov)\n",
    "        a = cond_prob * prior_prob\n",
    "        cond_probs.append(a)\n",
    "    prob_sum = sum(cond_probs)\n",
    "    \n",
    "    final_probs = np.round(cond_probs / prob_sum, 5)\n",
    "    answer = np.argmax(final_probs)\n",
    "    return final_probs, answer"
   ]
  },
  {
   "cell_type": "markdown",
   "metadata": {},
   "source": [
    "### Check Train Accuracy"
   ]
  },
  {
   "cell_type": "code",
   "execution_count": 11,
   "metadata": {},
   "outputs": [],
   "source": [
    "predict_trains = []\n",
    "for i in range(len(train_df)):\n",
    "    predict_ans = caculate_posteriot_probability(\n",
    "                  train_df.iloc[i, [0, 1]],\n",
    "                  means_alls=[class_1_means, class_2_means, class_3_means],\n",
    "                  cov=cov,\n",
    "                  prior_prob_alls=[class_1_prob, class_2_prob, class_3_prob])[1]\n",
    "    predict_trains.append(predict_ans)"
   ]
  },
  {
   "cell_type": "code",
   "execution_count": 12,
   "metadata": {},
   "outputs": [
    {
     "data": {
      "text/plain": [
       "0.9732142857142857"
      ]
     },
     "execution_count": 12,
     "metadata": {},
     "output_type": "execute_result"
    }
   ],
   "source": [
    "accuracy_score(train_df['target'], predict_trains)"
   ]
  },
  {
   "cell_type": "markdown",
   "metadata": {},
   "source": [
    "### Check Test Accuracy"
   ]
  },
  {
   "cell_type": "code",
   "execution_count": 13,
   "metadata": {},
   "outputs": [],
   "source": [
    "predict_tests = []\n",
    "for i in range(len(test_df)):\n",
    "    predict_ans = caculate_posteriot_probability(\n",
    "                  test_df.iloc[i, [0, 1]],\n",
    "                  means_alls=[class_1_means, class_2_means, class_3_means],\n",
    "                  cov=cov,\n",
    "                  prior_prob_alls=[class_1_prob, class_2_prob, class_3_prob])[1]\n",
    "    predict_tests.append(predict_ans)"
   ]
  },
  {
   "cell_type": "code",
   "execution_count": 14,
   "metadata": {},
   "outputs": [
    {
     "data": {
      "text/plain": [
       "0.9210526315789473"
      ]
     },
     "execution_count": 14,
     "metadata": {},
     "output_type": "execute_result"
    }
   ],
   "source": [
    "accuracy_score(test_df['target'], predict_tests)"
   ]
  },
  {
   "cell_type": "markdown",
   "metadata": {},
   "source": [
    "### Plot Decision Boundary \n",
    "#### (Because  covariance matrixs are identity, decision boundary is linear)"
   ]
  },
  {
   "cell_type": "code",
   "execution_count": 15,
   "metadata": {},
   "outputs": [],
   "source": [
    "def make_meshgrid(x, y, h=0.01):\n",
    "    x_min, x_max = x.min() - 1, x.max() + 1\n",
    "    y_min, y_max = y.min() - 1, y.max() + 1\n",
    "    xx, yy = np.meshgrid(\n",
    "        np.arange(x_min, x_max, h),\n",
    "        np.arange(y_min, y_max, h))\n",
    "    \n",
    "    return xx, yy"
   ]
  },
  {
   "cell_type": "markdown",
   "metadata": {},
   "source": [
    "#### Caculate Model Predictions on Every Points "
   ]
  },
  {
   "cell_type": "code",
   "execution_count": 16,
   "metadata": {},
   "outputs": [],
   "source": [
    "xx, yy = make_meshgrid(train_df.iloc[:, 0], train_df.iloc[:, 1])\n",
    "coordinates = np.c_[xx.ravel(), yy.ravel()]\n",
    "\n",
    "predictions = []\n",
    "for a in coordinates:\n",
    "    predict_ans = caculate_posteriot_probability(\n",
    "                  a,\n",
    "                  means_alls=[class_1_means, class_2_means, class_3_means],\n",
    "                  cov=cov,\n",
    "                  prior_prob_alls=[class_1_prob, class_2_prob, class_3_prob])[1]\n",
    "    predictions.append(predict_ans)\n",
    "    \n",
    "predictions = np.array(predictions).reshape(xx.shape)"
   ]
  },
  {
   "cell_type": "code",
   "execution_count": 17,
   "metadata": {},
   "outputs": [
    {
     "data": {
      "text/plain": [
       "Text(0, 0.5, 'petal width')"
      ]
     },
     "execution_count": 17,
     "metadata": {},
     "output_type": "execute_result"
    },
    {
     "data": {
      "image/png": "[encoded data removed]",
      "text/plain": [
       "<Figure size 432x288 with 1 Axes>"
      ]
     },
     "metadata": {
      "needs_background": "light"
     },
     "output_type": "display_data"
    }
   ],
   "source": [
    "plt.contourf(xx, yy, predictions, cmap=plt.cm.coolwarm, alpha=0.5)\n",
    "plt.scatter(train_df.iloc[:, 0], train_df.iloc[:, 1], c=train_df.iloc[:, 2], cmap=plt.cm.coolwarm, s=20, edgecolors='k')\n",
    "plt.title('Naive Bayse Decision Boundary')\n",
    "plt.xlabel('petal length')\n",
    "plt.ylabel('petal width')"
   ]
  },
  {
   "cell_type": "code",
   "execution_count": null,
   "metadata": {},
   "outputs": [],
   "source": []
  }
 ],
 "metadata": {
  "kernelspec": {
   "display_name": "Python 3",
   "language": "python",
   "name": "python3"
  },
  "language_info": {
   "codemirror_mode": {
    "name": "ipython",
    "version": 3
   },
   "file_extension": ".py",
   "mimetype": "text/x-python",
   "name": "python",
   "nbconvert_exporter": "python",
   "pygments_lexer": "ipython3",
   "version": "3.6.8"
  }
 },
 "nbformat": 4,
 "nbformat_minor": 2
}
