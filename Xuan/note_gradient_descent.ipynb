{
 "cells": [
  {
   "cell_type": "markdown",
   "metadata": {},
   "source": [
    "## **Topic1 - Gradient Descent**\n",
    "### 1. What is gradient ? \n",
    "The direction of normal vector of the contour line of Loss function.\n",
    "\n",
    "### 2. Adaptive Learning Rate\n",
    "At the beginning, we are far from the destination, so we use larger learning rate.\n",
    "\n",
    "After several epochs, we are close to the destination, so we reduce the learning rate. E.g. $\\eta^t=\\dfrac{\\eta}{\\sqrt{t+1}}$\n",
    "\n",
    "Learning rate can't be one-size-fits-all, different parameters could have different learning rates. \n",
    "\n",
    "### 3. Adagrad\n",
    "\n",
    "$ w^{t+1} \\leftarrow w^t - \\dfrac{\\eta^t}{\\sigma^t}g^t, $\n",
    "where $\\eta^t=\\dfrac{\\eta}{\\sqrt{t+1}} \\text{ , } g^t=\\dfrac{\\partial L(\\theta^t)}{\\partial w} \\text{ and } \\sigma^t = \\sqrt{\\dfrac{1}{t+1} \\displaystyle \\sum_{i=0}^t (g^i)^2}$\n",
    "\n",
    "Hence, $ w^{t+1} \\leftarrow w^t - \\dfrac{\\eta}{\\sqrt{\\sum_{i=0}^t (g^i)^2}}g^t $\n",
    "\n",
    "### 4. Stochastic Gradient Descent\n",
    "Loss for only one example (pick an example for $x^n$) : $ L^n = \\left(y^n - (b + \\sum w_ix_i^n)\\right)^2 $\n",
    "\n",
    "Then, $ \\theta^i = \\theta^{i-1} - \\eta \\nabla L^n(\\theta^{i-1}) $\n",
    "\n",
    "### 5. Each time we update the parameters, we don't obtain $\\theta$ that makes $L(\\theta)$ smaller.\n",
    "\n",
    "Given one paramerter and condition on other parameters are constant, the direction that makes that parameter to minimize the loss. Hence, if we summarize all the directions, if might not be the minimum of the loss.\n"
   ]
  }
 ],
 "metadata": {
  "kernelspec": {
   "display_name": "Python 3",
   "language": "python",
   "name": "python3"
  },
  "language_info": {
   "codemirror_mode": {
    "name": "ipython",
    "version": 3
   },
   "file_extension": ".py",
   "mimetype": "text/x-python",
   "name": "python",
   "nbconvert_exporter": "python",
   "pygments_lexer": "ipython3",
   "version": "3.6.8"
  }
 },
 "nbformat": 4,
 "nbformat_minor": 2
}
